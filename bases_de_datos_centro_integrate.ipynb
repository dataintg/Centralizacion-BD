{
  "nbformat": 4,
  "nbformat_minor": 0,
  "metadata": {
    "colab": {
      "provenance": []
    },
    "kernelspec": {
      "name": "python3",
      "display_name": "Python 3"
    },
    "language_info": {
      "name": "python"
    }
  },
  "cells": [
    {
      "cell_type": "markdown",
      "source": [
        "#**Bases de datos 2020 a 2023**"
      ],
      "metadata": {
        "id": "f8WmUg9zJeOa"
      }
    },
    {
      "cell_type": "markdown",
      "source": [
        "El siguiente codigo genera la limpieza y disposición de las bases del centro Integrate entre 2020 y 2023. Cabe resaltar 2020 los datos se encontraban diferentes campos por lo que"
      ],
      "metadata": {
        "id": "9Ua5kSTaJ518"
      }
    },
    {
      "cell_type": "markdown",
      "source": [
        "#**Bases de datos 2024**"
      ],
      "metadata": {
        "id": "j4qQGt-KSk9r"
      }
    },
    {
      "cell_type": "markdown",
      "source": [
        "## **carga de todas las tablas**"
      ],
      "metadata": {
        "id": "u21Ug6JCSrsr"
      }
    },
    {
      "cell_type": "code",
      "execution_count": null,
      "metadata": {
        "colab": {
          "base_uri": "https://localhost:8080/"
        },
        "id": "nG0MkeOIJZfr",
        "outputId": "f2f1ae2c-f873-4d7a-84c2-3def91da8a96"
      },
      "outputs": [
        {
          "output_type": "stream",
          "name": "stdout",
          "text": [
            "Datos de la hoja 'Atenciones' cargados exitosamente en la tabla 'atenciones'.\n",
            "Datos de la hoja 'datos anonimizados' cargados exitosamente en la tabla 'datos_anonimizados'.\n",
            "Datos de la hoja 'caracterizacion' cargados exitosamente en la tabla 'caracterizacion'.\n",
            "Todas las hojas han sido cargadas exitosamente en la base de datos SQLite.\n"
          ]
        }
      ],
      "source": [
        "import pandas as pd\n",
        "import sqlite3\n",
        "\n",
        "# Ruta al archivo Excel\n",
        "file_path = '/content/Tablas Integrate.xlsx'  # Cambia esto por la ruta a tu archivo Excel\n",
        "\n",
        "# Lista de hojas y sus correspondientes nombres de tabla en SQLite\n",
        "sheets_tables = {\n",
        "    'Atenciones': 'atenciones',\n",
        "    'datos anonimizados': 'datos_anonimizados',\n",
        "    'caracterizacion': 'caracterizacion'\n",
        "}\n",
        "\n",
        "# Conectar a la base de datos SQLite (o crearla si no existe)\n",
        "db_path = 'bd_integrate.sqlite'  # Cambia esto por la ruta a tu base de datos SQLite\n",
        "conn = sqlite3.connect(db_path)\n",
        "\n",
        "# Iterar sobre las hojas y cargar cada una en su propia tabla\n",
        "for sheet_name, table_name in sheets_tables.items():\n",
        "    # Leer la hoja del archivo Excel\n",
        "    data = pd.read_excel(file_path, sheet_name=sheet_name)\n",
        "\n",
        "    # Cargar los datos en una tabla SQLite\n",
        "    data.to_sql(table_name, conn, if_exists='replace', index=False)\n",
        "    print(f\"Datos de la hoja '{sheet_name}' cargados exitosamente en la tabla '{table_name}'.\")\n",
        "\n",
        "# Cerrar la conexión\n",
        "conn.close()\n",
        "\n",
        "print(\"Todas las hojas han sido cargadas exitosamente en la base de datos SQLite.\")\n",
        "\n"
      ]
    },
    {
      "cell_type": "markdown",
      "source": [
        "## **Consulta atenciones**"
      ],
      "metadata": {
        "id": "9SgXji8sUa4E"
      }
    },
    {
      "cell_type": "code",
      "source": [
        "# Conectar a la base de datos SQLite (o crearla si no existe)\n",
        "db_path = 'bd_integrate.sqlite'  # Cambia esto por la ruta a tu base de datos SQLite\n",
        "conn = sqlite3.connect(db_path)\n",
        "\n",
        "# Leer y mostrar los primeros 10 registros de la tabla \"atenciones\"\n",
        "query = f\"SELECT * FROM atenciones LIMIT 10\"\n",
        "df = pd.read_sql_query(query, conn)\n",
        "print(df)\n",
        "\n",
        "# Cerrar la conexión\n",
        "conn.close()"
      ],
      "metadata": {
        "colab": {
          "base_uri": "https://localhost:8080/"
        },
        "id": "GIigYP17SGam",
        "outputId": "6fedffe7-1849-47ef-f3cb-3016a2b5b10c"
      },
      "execution_count": null,
      "outputs": [
        {
          "output_type": "stream",
          "name": "stdout",
          "text": [
            "             nub                           Id Atención Centro Intégrate  \\\n",
            "0  8001010001430  6f7ec41b-5785-4850-aea3-64fa8610c61a     BARRANQUILLA   \n",
            "1  8001010003159  c6389504-e619-408f-a35c-d1ddadcbe653     BARRANQUILLA   \n",
            "2  8001010001800  5d389fcc-3e7f-41e4-a572-da07a81b2b0c     BARRANQUILLA   \n",
            "3  8001010003460  c3eb7494-00a9-4193-b36f-fc9011f3383d     BARRANQUILLA   \n",
            "4    80010101844  1868ab45-4c2c-47d0-a6b0-4d0269b2b297     BARRANQUILLA   \n",
            "5    80010101351  4dd94dba-9f56-4fa7-986f-b3413a2e8410     BARRANQUILLA   \n",
            "6  8001010001640  e43776b5-1511-47e1-bdef-f3f9c4991c9c     BARRANQUILLA   \n",
            "7  8001010001646  ea50952f-3a8b-415f-a4a7-45de039c7bf4     BARRANQUILLA   \n",
            "8  8001010001799  d5f59efa-0037-4d94-9a9b-8748eddd9ad7     BARRANQUILLA   \n",
            "9  8001010001595  5279c0b3-370a-4e08-901c-ec3fcc2d2ab1     BARRANQUILLA   \n",
            "\n",
            "  Tipo Atención                         Servicio Fecha Programación  \\\n",
            "0        SISBEN  SISBEN - TRAMITE NUEVA ENCUESTA         6 oct 2023   \n",
            "1        SISBEN  SISBEN - ASESORIA Y ORIENTACION         3 may 2023   \n",
            "2        SISBEN  SISBEN - TRAMITE NUEVA ENCUESTA        17 ago 2023   \n",
            "3        SISBEN  SISBEN - TRAMITE NUEVA ENCUESTA         6 oct 2023   \n",
            "4        SISBEN  SISBEN - ASESORIA Y ORIENTACION        18 ago 2023   \n",
            "5        SISBEN  SISBEN - ASESORIA Y ORIENTACION         8 ago 2023   \n",
            "6        SISBEN  SISBEN - ASESORIA Y ORIENTACION        14 ago 2023   \n",
            "7        SISBEN  SISBEN - ASESORIA Y ORIENTACION        14 ago 2023   \n",
            "8        SISBEN  SISBEN - ASESORIA Y ORIENTACION        19 ene 2024   \n",
            "9        SISBEN  SISBEN - ASESORIA Y ORIENTACION        1 sept 2023   \n",
            "\n",
            "       Estado                                 Causal Gestión  \\\n",
            "0  FINALIZADA  POR RESPUESTA POSITIVA/NEGATIVA DE LA ENTIDAD   \n",
            "1  FINALIZADA                                           None   \n",
            "2  FINALIZADA  POR RESPUESTA POSITIVA/NEGATIVA DE LA ENTIDAD   \n",
            "3  FINALIZADA  POR RESPUESTA POSITIVA/NEGATIVA DE LA ENTIDAD   \n",
            "4  FINALIZADA  POR RESPUESTA POSITIVA/NEGATIVA DE LA ENTIDAD   \n",
            "5  FINALIZADA                                           None   \n",
            "6  PROGRAMADA                                           None   \n",
            "7  PROGRAMADA                                           None   \n",
            "8  FINALIZADA  POR RESPUESTA POSITIVA/NEGATIVA DE LA ENTIDAD   \n",
            "9  FINALIZADA  POR RESPUESTA POSITIVA/NEGATIVA DE LA ENTIDAD   \n",
            "\n",
            "                         Tipo Documento Número de Identificación  \\\n",
            "0                                   DNI                 22487416   \n",
            "1                  CEDULA DE CIUDADANIA               1045703407   \n",
            "2  PERMISO DE PROTECCION TEMPORAL (PPT)                  5445996   \n",
            "3  PERMISO DE PROTECCION TEMPORAL (PPT)                  6339978   \n",
            "4  PERMISO DE PROTECCION TEMPORAL (PPT)                  5312683   \n",
            "5  PERMISO DE PROTECCION TEMPORAL (PPT)                  2252798   \n",
            "6  PERMISO DE PROTECCION TEMPORAL (PPT)                  2641741   \n",
            "7          REGISTRO CIVIL DE NACIMIENTO               1045771090   \n",
            "8                                   DNI                 17312320   \n",
            "9                  CEDULA DE CIUDADANIA                 32674882   \n",
            "\n",
            "  Primer Nombre Primer Apellido                  Usuario Sistema Derivada  \\\n",
            "0       MIRELVI           LOPEZ  FRAYDI DAYANA VILLA CASTELLANOS     None   \n",
            "1        DARWIN          MORENO            DIGITADOR 5 INTEGRATE     None   \n",
            "2         JORGE       FERNANDEZ  FRAYDI DAYANA VILLA CASTELLANOS     None   \n",
            "3      ADRIANNI        GONZALEZ  FRAYDI DAYANA VILLA CASTELLANOS     None   \n",
            "4       DIOSMAR          PIEDRA                    SHERIL SOLANO     None   \n",
            "5       BILBANI          LOZADA          INTEGRA-DIGITADOR CINCO     None   \n",
            "6         EGUAR        CASTILLO           PABLO ZULUAGA SANDOVAL     None   \n",
            "7       ABIGAIL        GONZALEZ           TATIANA VERGEL FONSECA     None   \n",
            "8         KELLY          VARGAS          MANUEL FERNANDO RAMIREZ     None   \n",
            "9        ANGELA           PARRA  FRAYDI DAYANA VILLA CASTELLANOS     None   \n",
            "\n",
            "  Autoridad Remisión  Exitoso   Última Fecha Gestión Causal de Finalización  \n",
            "0               None        1  18 dic 2023, 12:14:34             FINALIZADA  \n",
            "1               None        0  19 jul 2023, 10:17:22             FINALIZADA  \n",
            "2               None        1   26 dic 2023, 9:06:46             FINALIZADA  \n",
            "3               None        1  18 dic 2023, 12:12:20             FINALIZADA  \n",
            "4               None        1  29 dic 2023, 12:00:10             FINALIZADA  \n",
            "5               None        1   8 ago 2023, 10:44:22             FINALIZADA  \n",
            "6               None        0  14 ago 2023, 14:36:14                   None  \n",
            "7               None        0  14 ago 2023, 14:46:40                   None  \n",
            "8               None        1   19 ene 2024, 9:48:25             FINALIZADA  \n",
            "9               None        1  27 dic 2023, 14:33:03             FINALIZADA  \n"
          ]
        }
      ]
    },
    {
      "cell_type": "markdown",
      "source": [
        "## **Consulta anonimizados**"
      ],
      "metadata": {
        "id": "FGqN37eNTXNK"
      }
    },
    {
      "cell_type": "code",
      "source": [
        "# Conectar a la base de datos SQLite (o crearla si no existe)\n",
        "db_path = 'bd_integrate.sqlite'  # Cambia esto por la ruta a tu base de datos SQLite\n",
        "conn = sqlite3.connect(db_path)\n",
        "\n",
        "# Leer y mostrar los primeros 10 registros de la tabla \"atenciones\"\n",
        "query = f\"SELECT * FROM datos_anonimizados LIMIT 10\"\n",
        "df = pd.read_sql_query(query, conn)\n",
        "print(df)\n",
        "\n",
        "# Cerrar la conexión\n",
        "conn.close()"
      ],
      "metadata": {
        "colab": {
          "base_uri": "https://localhost:8080/"
        },
        "id": "vr2AVpZsTdkL",
        "outputId": "188916d9-12f9-4aa9-b9a0-ff1c6aab842e"
      },
      "execution_count": null,
      "outputs": [
        {
          "output_type": "stream",
          "name": "stdout",
          "text": [
            "            nub Fecha Programación Centro Intégrate  \\\n",
            "0  8.001010e+12        19 mar 3034     BARRANQUILLA   \n",
            "1  8.001010e+12        18 may 2300     BARRANQUILLA   \n",
            "2  8.001010e+12        29 jun 2223     BARRANQUILLA   \n",
            "3  8.001010e+12        29 may 2028     BARRANQUILLA   \n",
            "4  8.001010e+12        29 may 2028     BARRANQUILLA   \n",
            "5  8.001010e+12        21 abr 2025     BARRANQUILLA   \n",
            "6  8.001010e+12        19 dic 2024     BARRANQUILLA   \n",
            "7  8.001010e+12        1 sept 2024     BARRANQUILLA   \n",
            "8  8.001010e+12        1 sept 2024     BARRANQUILLA   \n",
            "9  8.001010e+12         5 jul 2024     BARRANQUILLA   \n",
            "\n",
            "                         Tipo Documento Tipo Documento 2 Fecha Nacimiento  \\\n",
            "0          REGISTRO CIVIL DE NACIMIENTO             None       1 abr 2020   \n",
            "1          CERTIFICADO DE REGISTRO RUMV             None      23 may 2006   \n",
            "2  PERMISO DE PROTECCION TEMPORAL (PPT)             None      23 feb 1964   \n",
            "3                                   DNI             None      14 nov 1988   \n",
            "4                                   DNI             None      14 nov 1988   \n",
            "5                                   DNI             None      18 feb 1947   \n",
            "6          CERTIFICADO DE REGISTRO RUMV             None       8 ago 1976   \n",
            "7  PERMISO DE PROTECCION TEMPORAL (PPT)             None      17 jul 2004   \n",
            "8                  CEDULA DE CIUDADANIA             None      23 mar 1997   \n",
            "9  PERMISO DE PROTECCION TEMPORAL (PPT)             None       5 feb 2012   \n",
            "\n",
            "               Situación Migratoria Rango Etario Tipo Usuario    Sexo  ...  \\\n",
            "0                              None        00-05      ACOGIDA   MUJER  ...   \n",
            "1  EN TRAMITE - REGISTRO BIOMETRICO        18-28     MIGRANTE   MUJER  ...   \n",
            "2                           REGULAR     60 o más     MIGRANTE  HOMBRE  ...   \n",
            "3                         IRREGULAR        29-59     MIGRANTE   MUJER  ...   \n",
            "4                         IRREGULAR        29-59     MIGRANTE   MUJER  ...   \n",
            "5                           REGULAR     60 o más     MIGRANTE   MUJER  ...   \n",
            "6                              None        29-59     MIGRANTE   MUJER  ...   \n",
            "7                              None        18-28     MIGRANTE   MUJER  ...   \n",
            "8                              None        18-28      ACOGIDA   MUJER  ...   \n",
            "9                              None        12-17     MIGRANTE  HOMBRE  ...   \n",
            "\n",
            "  País Destino Ciudad Destino                           ID Atención  \\\n",
            "0         None           None  d9de8b71-af3d-40a5-a2e1-b0f8dfe6932f   \n",
            "1         None           None  f0ac9ba6-dd76-4980-84c6-617c956c377a   \n",
            "2         None           None  22069a93-0c3c-47f2-a8a6-067693e88cba   \n",
            "3         None           None  d86b275c-8e88-42f1-9997-4061744dddba   \n",
            "4         None           None  b8bf4124-785d-4699-bc6c-0739e1ab30d0   \n",
            "5         None           None  dd1227c5-d20b-4d4c-aa1b-846b71b9dd95   \n",
            "6         None           None  346ce476-507c-4384-9664-9e77da8df306   \n",
            "7         None           None  f918590d-39a3-4c0d-a422-9fea0bd06e7a   \n",
            "8         None           None  bb59d264-c07f-4a5b-92b3-0c0a19f6a320   \n",
            "9         None           None  3d4ba132-058a-4662-97cb-a694a39a564a   \n",
            "\n",
            "   Tipo de Atención                                           Servicio  \\\n",
            "0             SALUD                     SALUD - ORIENTACION Y ASESORIA   \n",
            "1             SALUD   Salud - Afiliación a sistema de salud colombiano   \n",
            "2     EMPLEABILIDAD         EMPLEABILIDAD - ASESORIA PARA HOJA DE VIDA   \n",
            "3  GESTION DE CASOS          GESTION DE CASOS - ORIENTACION Y ASESORIA   \n",
            "4             SALUD                    SALUD - Entrega de medicamentos   \n",
            "5     PUNTO VISIBLE                Punto visible - Registro en el RUMV   \n",
            "6     PUNTO VISIBLE                      PUNTO VISIBLE - PUNTO VISIBLE   \n",
            "7            SISBEN  SISBEN - INCLUSION DEL BENEFICIARIO O SU NUCLE...   \n",
            "8            SISBEN  SISBEN - INCLUSION DEL BENEFICIARIO O SU NUCLE...   \n",
            "9           CULTURA                                CULTURA - FORMACION   \n",
            "\n",
            "  Fecha Inicio Gestión Estado de Gestión  Fecha Estado de la gestión  \\\n",
            "0          19 mar 2024        FINALIZADA       19 mar 2024, 11:34:19   \n",
            "1          17 jul 2023        FINALIZADA       17 jul 2023, 13:07:56   \n",
            "2          12 jul 2023        FINALIZADA       12 jul 2023, 20:52:19   \n",
            "3          29 may 2024        FINALIZADA        29 may 2024, 8:26:05   \n",
            "4          29 may 2024        FINALIZADA        29 may 2024, 9:02:53   \n",
            "5          13 jul 2023        FINALIZADA       13 jul 2023, 16:39:18   \n",
            "6          19 ene 2024        FINALIZADA       19 ene 2024, 13:18:20   \n",
            "7          1 sept 2023        FINALIZADA        1 sept 2023, 9:22:18   \n",
            "8          1 sept 2023        FINALIZADA        1 sept 2023, 9:29:59   \n",
            "9          28 jun 2024        PROGRAMADA       28 jun 2024, 11:11:26   \n",
            "\n",
            "                                       Observaciones Solucionó la Necesidad  \n",
            "0                                               None                    1.0  \n",
            "1                                               None                    0.0  \n",
            "2  LA PERSONA SE ACERCA AL CENTRO PARA RECIBIR OR...                    0.0  \n",
            "3                                               None                    1.0  \n",
            "4                                               None                    1.0  \n",
            "5                                               None                    0.0  \n",
            "6                                               None                    1.0  \n",
            "7                                               None                    1.0  \n",
            "8                                               None                    1.0  \n",
            "9                                               None                    0.0  \n",
            "\n",
            "[10 rows x 36 columns]\n"
          ]
        }
      ]
    },
    {
      "cell_type": "markdown",
      "source": [
        "## **Consulta caracterización**"
      ],
      "metadata": {
        "id": "-wIJ--kJqGhG"
      }
    },
    {
      "cell_type": "code",
      "source": [
        "# Conectar a la base de datos SQLite (o crearla si no existe)\n",
        "db_path = 'bd_integrate.sqlite'  # Cambia esto por la ruta a tu base de datos SQLite\n",
        "conn = sqlite3.connect(db_path)\n",
        "\n",
        "# Leer y mostrar los primeros 10 registros de la tabla \"atenciones\"\n",
        "query = f\"SELECT * FROM datos_anonimizados LIMIT 10\"\n",
        "df = pd.read_sql_query(query, conn)\n",
        "print(df)\n",
        "\n",
        "# Cerrar la conexión\n",
        "conn.close()"
      ],
      "metadata": {
        "colab": {
          "base_uri": "https://localhost:8080/"
        },
        "id": "FRi48oFRqEQr",
        "outputId": "0e2ce058-0f69-4851-d0e5-7ba9ecfd14bc"
      },
      "execution_count": null,
      "outputs": [
        {
          "output_type": "stream",
          "name": "stdout",
          "text": [
            "            nub Fecha Programación Centro Intégrate  \\\n",
            "0  8.001010e+12        19 mar 3034     BARRANQUILLA   \n",
            "1  8.001010e+12        18 may 2300     BARRANQUILLA   \n",
            "2  8.001010e+12        29 jun 2223     BARRANQUILLA   \n",
            "3  8.001010e+12        29 may 2028     BARRANQUILLA   \n",
            "4  8.001010e+12        29 may 2028     BARRANQUILLA   \n",
            "5  8.001010e+12        21 abr 2025     BARRANQUILLA   \n",
            "6  8.001010e+12        19 dic 2024     BARRANQUILLA   \n",
            "7  8.001010e+12        1 sept 2024     BARRANQUILLA   \n",
            "8  8.001010e+12        1 sept 2024     BARRANQUILLA   \n",
            "9  8.001010e+12         5 jul 2024     BARRANQUILLA   \n",
            "\n",
            "                         Tipo Documento Tipo Documento 2 Fecha Nacimiento  \\\n",
            "0          REGISTRO CIVIL DE NACIMIENTO             None       1 abr 2020   \n",
            "1          CERTIFICADO DE REGISTRO RUMV             None      23 may 2006   \n",
            "2  PERMISO DE PROTECCION TEMPORAL (PPT)             None      23 feb 1964   \n",
            "3                                   DNI             None      14 nov 1988   \n",
            "4                                   DNI             None      14 nov 1988   \n",
            "5                                   DNI             None      18 feb 1947   \n",
            "6          CERTIFICADO DE REGISTRO RUMV             None       8 ago 1976   \n",
            "7  PERMISO DE PROTECCION TEMPORAL (PPT)             None      17 jul 2004   \n",
            "8                  CEDULA DE CIUDADANIA             None      23 mar 1997   \n",
            "9  PERMISO DE PROTECCION TEMPORAL (PPT)             None       5 feb 2012   \n",
            "\n",
            "               Situación Migratoria Rango Etario Tipo Usuario    Sexo  ...  \\\n",
            "0                              None        00-05      ACOGIDA   MUJER  ...   \n",
            "1  EN TRAMITE - REGISTRO BIOMETRICO        18-28     MIGRANTE   MUJER  ...   \n",
            "2                           REGULAR     60 o más     MIGRANTE  HOMBRE  ...   \n",
            "3                         IRREGULAR        29-59     MIGRANTE   MUJER  ...   \n",
            "4                         IRREGULAR        29-59     MIGRANTE   MUJER  ...   \n",
            "5                           REGULAR     60 o más     MIGRANTE   MUJER  ...   \n",
            "6                              None        29-59     MIGRANTE   MUJER  ...   \n",
            "7                              None        18-28     MIGRANTE   MUJER  ...   \n",
            "8                              None        18-28      ACOGIDA   MUJER  ...   \n",
            "9                              None        12-17     MIGRANTE  HOMBRE  ...   \n",
            "\n",
            "  País Destino Ciudad Destino                           ID Atención  \\\n",
            "0         None           None  d9de8b71-af3d-40a5-a2e1-b0f8dfe6932f   \n",
            "1         None           None  f0ac9ba6-dd76-4980-84c6-617c956c377a   \n",
            "2         None           None  22069a93-0c3c-47f2-a8a6-067693e88cba   \n",
            "3         None           None  d86b275c-8e88-42f1-9997-4061744dddba   \n",
            "4         None           None  b8bf4124-785d-4699-bc6c-0739e1ab30d0   \n",
            "5         None           None  dd1227c5-d20b-4d4c-aa1b-846b71b9dd95   \n",
            "6         None           None  346ce476-507c-4384-9664-9e77da8df306   \n",
            "7         None           None  f918590d-39a3-4c0d-a422-9fea0bd06e7a   \n",
            "8         None           None  bb59d264-c07f-4a5b-92b3-0c0a19f6a320   \n",
            "9         None           None  3d4ba132-058a-4662-97cb-a694a39a564a   \n",
            "\n",
            "   Tipo de Atención                                           Servicio  \\\n",
            "0             SALUD                     SALUD - ORIENTACION Y ASESORIA   \n",
            "1             SALUD   Salud - Afiliación a sistema de salud colombiano   \n",
            "2     EMPLEABILIDAD         EMPLEABILIDAD - ASESORIA PARA HOJA DE VIDA   \n",
            "3  GESTION DE CASOS          GESTION DE CASOS - ORIENTACION Y ASESORIA   \n",
            "4             SALUD                    SALUD - Entrega de medicamentos   \n",
            "5     PUNTO VISIBLE                Punto visible - Registro en el RUMV   \n",
            "6     PUNTO VISIBLE                      PUNTO VISIBLE - PUNTO VISIBLE   \n",
            "7            SISBEN  SISBEN - INCLUSION DEL BENEFICIARIO O SU NUCLE...   \n",
            "8            SISBEN  SISBEN - INCLUSION DEL BENEFICIARIO O SU NUCLE...   \n",
            "9           CULTURA                                CULTURA - FORMACION   \n",
            "\n",
            "  Fecha Inicio Gestión Estado de Gestión  Fecha Estado de la gestión  \\\n",
            "0          19 mar 2024        FINALIZADA       19 mar 2024, 11:34:19   \n",
            "1          17 jul 2023        FINALIZADA       17 jul 2023, 13:07:56   \n",
            "2          12 jul 2023        FINALIZADA       12 jul 2023, 20:52:19   \n",
            "3          29 may 2024        FINALIZADA        29 may 2024, 8:26:05   \n",
            "4          29 may 2024        FINALIZADA        29 may 2024, 9:02:53   \n",
            "5          13 jul 2023        FINALIZADA       13 jul 2023, 16:39:18   \n",
            "6          19 ene 2024        FINALIZADA       19 ene 2024, 13:18:20   \n",
            "7          1 sept 2023        FINALIZADA        1 sept 2023, 9:22:18   \n",
            "8          1 sept 2023        FINALIZADA        1 sept 2023, 9:29:59   \n",
            "9          28 jun 2024        PROGRAMADA       28 jun 2024, 11:11:26   \n",
            "\n",
            "                                       Observaciones Solucionó la Necesidad  \n",
            "0                                               None                    1.0  \n",
            "1                                               None                    0.0  \n",
            "2  LA PERSONA SE ACERCA AL CENTRO PARA RECIBIR OR...                    0.0  \n",
            "3                                               None                    1.0  \n",
            "4                                               None                    1.0  \n",
            "5                                               None                    0.0  \n",
            "6                                               None                    1.0  \n",
            "7                                               None                    1.0  \n",
            "8                                               None                    1.0  \n",
            "9                                               None                    0.0  \n",
            "\n",
            "[10 rows x 36 columns]\n"
          ]
        }
      ]
    }
  ]
}